{
 "cells": [
  {
   "cell_type": "code",
   "execution_count": 1,
   "metadata": {
    "collapsed": true
   },
   "outputs": [],
   "source": [
    "using Pkm"
   ]
  },
  {
   "cell_type": "markdown",
   "metadata": {},
   "source": [
    "Create a Pokebeast object, e.g., a Magikarp level 20.0, with stamina 6, attack 7 and defense 8."
   ]
  },
  {
   "cell_type": "code",
   "execution_count": 2,
   "metadata": {},
   "outputs": [
    {
     "data": {
      "text/plain": [
       "Magikarp (129) l:20.0 iv:6,7,8; cp: 91, hp: 27"
      ]
     },
     "execution_count": 2,
     "metadata": {},
     "output_type": "execute_result"
    }
   ],
   "source": [
    "Pokebeast(\"Magikarp\", 20, IV(6, 7, 8))\n",
    "Pokebeast(\"Magikarp\", 20, 6, 7, 8)"
   ]
  },
  {
   "cell_type": "markdown",
   "metadata": {},
   "source": [
    "Or make a raid boss of a particular level (mosty for understanding where the CP comes from)"
   ]
  },
  {
   "cell_type": "code",
   "execution_count": 3,
   "metadata": {},
   "outputs": [
    {
     "data": {
      "text/plain": [
       "Snorlax (143) Raid boss; cp: 25419, hp: 7500"
      ]
     },
     "execution_count": 3,
     "metadata": {},
     "output_type": "execute_result"
    }
   ],
   "source": [
    "Pokebeast(\"Snorlax\", bosslevel=4)"
   ]
  },
  {
   "cell_type": "markdown",
   "metadata": {},
   "source": [
    "In fact, this uses the defaults beast level 20 and IV maximum, (15,15,15)"
   ]
  },
  {
   "cell_type": "code",
   "execution_count": 4,
   "metadata": {},
   "outputs": [
    {
     "name": "stdout",
     "output_type": "stream",
     "text": [
      "Slaking (289) l:37.5 iv:15,15,15; cp: 5247, hp: 244\n",
      "Deoxys (386) l:20.0 iv:15,15,15; cp: 1570, hp: 68\n"
     ]
    }
   ],
   "source": [
    "println(Pokebeast(\"Slaking\", 37.5))\n",
    "println(Pokebeast(\"Deoxys\"))"
   ]
  },
  {
   "cell_type": "markdown",
   "metadata": {},
   "source": [
    "You can search for the possible IV values of your Beast by providing all the details the app gives you.\n",
    "```\n",
    "search(name, cp, hp, stardust, overall_evaluation, best_aspects, best_evaluation)\n",
    "```\n",
    "`best_aspects` is a string with the letter `s`, `a` and/or `d` in them.  The evaluation values should be coded in the range 0--3 for the following ranges:\n",
    "```\n",
    "|---------|-----------|--------|\n",
    "| value   | overallIV | bestIV |\n",
    "|---------|-----------|--------|\n",
    "|   0     | 0-49%     |  0-7   |\n",
    "|   1     | 51-64%    |  8-12  |\n",
    "|   2     | 67-80%    |  13-14 |\n",
    "|   3     | 82-100%   |  15    |\n",
    "|---------|-----------|--------|\n",
    "```\n",
    "`overall_evaluation`, `best_aspects` and `best_evaluation` are "
   ]
  },
  {
   "cell_type": "code",
   "execution_count": 5,
   "metadata": {},
   "outputs": [
    {
     "data": {
      "text/html": [
       "<table class=\"data-frame\"><thead><tr><th></th><th>beast</th><th>ivm</th><th>hp</th><th>cp</th><th>overall</th><th>best</th><th>val</th><th>iv</th><th>ivp</th></tr></thead><tbody><tr><th>1</th><td>Magikarp (129) l:3.0 iv:15,14,15; cp: 16, hp: 11</td><td>3449.3934249372014</td><td>11</td><td>16</td><td>3</td><td>sd</td><td>3</td><td>98</td><td>952</td></tr></tbody></table>"
      ],
      "text/plain": [
       "1×9 DataFrames.DataFrame\n",
       "│ Row │ beast                                            │ ivm     │ hp │ cp │\n",
       "├─────┼──────────────────────────────────────────────────┼─────────┼────┼────┤\n",
       "│ 1   │ Magikarp (129) l:3.0 iv:15,14,15; cp: 16, hp: 11 │ 3449.39 │ 11 │ 16 │\n",
       "\n",
       "│ Row │ overall │ best │ val │ iv │ ivp │\n",
       "├─────┼─────────┼──────┼─────┼────┼─────┤\n",
       "│ 1   │ 3       │ \"sd\" │ 3   │ 98 │ 952 │"
      ]
     },
     "execution_count": 5,
     "metadata": {},
     "output_type": "execute_result"
    }
   ],
   "source": [
    "p = search(\"Magikarp\", 16, 11, 400, 3, \"sd\", 3) ## a wonder, never seen such good stamina (hp) and defense stats\n",
    "p"
   ]
  },
  {
   "cell_type": "markdown",
   "metadata": {},
   "source": [
    "`ivm` is the IV modifier, used in CP calculations.  `iv` is a percentage of maximum IV a beast can possibly have, which doesn't change upon evolving, but is not perfectly correlated with CP.  `ivp` is IV promilage (0--1000), like `iv` it doesn't change with the level of the beast, but `ivp` is directly correlated with CP; however, it can change upon evolution.  "
   ]
  },
  {
   "cell_type": "code",
   "execution_count": 6,
   "metadata": {
    "scrolled": true
   },
   "outputs": [
    {
     "data": {
      "text/html": [
       "<table class=\"data-frame\"><thead><tr><th></th><th>beast</th><th>ivm</th><th>hp</th><th>cp</th><th>overall</th><th>best</th><th>val</th><th>iv</th><th>ivp</th></tr></thead><tbody><tr><th>1</th><td>Gyarados (130) l:3.0 iv:15,14,15; cp: 243, hp: 44</td><td>52326.12597928496</td><td>44</td><td>243</td><td>3</td><td>sd</td><td>3</td><td>98</td><td>969</td></tr></tbody></table>"
      ],
      "text/plain": [
       "1×9 DataFrames.DataFrame\n",
       "│ Row │ beast                                             │ ivm     │ hp │ cp  │\n",
       "├─────┼───────────────────────────────────────────────────┼─────────┼────┼─────┤\n",
       "│ 1   │ Gyarados (130) l:3.0 iv:15,14,15; cp: 243, hp: 44 │ 52326.1 │ 44 │ 243 │\n",
       "\n",
       "│ Row │ overall │ best │ val │ iv │ ivp │\n",
       "├─────┼─────────┼──────┼─────┼────┼─────┤\n",
       "│ 1   │ 3       │ \"sd\" │ 3   │ 98 │ 969 │"
      ]
     },
     "execution_count": 6,
     "metadata": {},
     "output_type": "execute_result"
    }
   ],
   "source": [
    "evolve(p)"
   ]
  },
  {
   "cell_type": "markdown",
   "metadata": {},
   "source": [
    "You can set a global beast level to your maximum attainable as trainer. "
   ]
  },
  {
   "cell_type": "code",
   "execution_count": 7,
   "metadata": {
    "scrolled": true
   },
   "outputs": [
    {
     "data": {
      "text/plain": [
       "35.5"
      ]
     },
     "execution_count": 7,
     "metadata": {},
     "output_type": "execute_result"
    }
   ],
   "source": [
    "setlevel(34 + 1.5)"
   ]
  },
  {
   "cell_type": "markdown",
   "metadata": {},
   "source": [
    "This is what you obtain if you evolve to the max, and then up the beast's level to the max.  The candy costs reported are excluding the costs for evolving. "
   ]
  },
  {
   "cell_type": "code",
   "execution_count": 8,
   "metadata": {},
   "outputs": [
    {
     "data": {
      "text/html": [
       "<table class=\"data-frame\"><thead><tr><th></th><th>beast</th><th>ivm</th><th>hp</th><th>cp</th><th>overall</th><th>best</th><th>val</th><th>iv</th><th>ivp</th><th>candy</th><th>stardust</th></tr></thead><tbody><tr><th>1</th><td>Gyarados (130) l:35.5 iv:15,14,15; cp: 3058, hp: 156</td><td>52326.12597928496</td><td>156</td><td>3058</td><td>3</td><td>sd</td><td>3</td><td>98</td><td>969</td><td>201</td><td>196800</td></tr></tbody></table>"
      ],
      "text/plain": [
       "1×11 DataFrames.DataFrame\n",
       "│ Row │ beast                                                │ ivm     │ hp  │\n",
       "├─────┼──────────────────────────────────────────────────────┼─────────┼─────┤\n",
       "│ 1   │ Gyarados (130) l:35.5 iv:15,14,15; cp: 3058, hp: 156 │ 52326.1 │ 156 │\n",
       "\n",
       "│ Row │ cp   │ overall │ best │ val │ iv │ ivp │ candy │ stardust │\n",
       "├─────┼──────┼─────────┼──────┼─────┼────┼─────┼───────┼──────────┤\n",
       "│ 1   │ 3058 │ 3       │ \"sd\" │ 3   │ 98 │ 969 │ 201   │ 196800   │"
      ]
     },
     "execution_count": 8,
     "metadata": {},
     "output_type": "execute_result"
    }
   ],
   "source": [
    "maxout(p)"
   ]
  },
  {
   "cell_type": "markdown",
   "metadata": {},
   "source": [
    "Sometimes a search gives ambiguous results."
   ]
  },
  {
   "cell_type": "code",
   "execution_count": 9,
   "metadata": {},
   "outputs": [
    {
     "data": {
      "text/html": [
       "<table class=\"data-frame\"><thead><tr><th></th><th>beast</th><th>ivm</th><th>hp</th><th>cp</th><th>overall</th><th>best</th><th>val</th><th>iv</th><th>ivp</th></tr></thead><tbody><tr><th>1</th><td>Eevee (133) l:30.0 iv:5,14,7; cp: 766, hp: 84</td><td>14316.468838369328</td><td>84</td><td>766</td><td>1</td><td>a</td><td>2</td><td>58</td><td>659</td></tr><tr><th>2</th><td>Eevee (133) l:30.0 iv:6,13,8; cp: 766, hp: 84</td><td>14312.309247637155</td><td>84</td><td>766</td><td>1</td><td>a</td><td>2</td><td>60</td><td>658</td></tr><tr><th>3</th><td>Eevee (133) l:30.0 iv:6,14,6; cp: 766, hp: 84</td><td>14322.303166739628</td><td>84</td><td>766</td><td>1</td><td>a</td><td>2</td><td>58</td><td>661</td></tr><tr><th>4</th><td>Eevee (133) l:30.5 iv:5,13,7; cp: 766, hp: 84</td><td>14195.142831264502</td><td>84</td><td>766</td><td>1</td><td>a</td><td>2</td><td>56</td><td>625</td></tr><tr><th>5</th><td>Eevee (133) l:30.5 iv:5,14,5; cp: 766, hp: 84</td><td>14204.181074599128</td><td>84</td><td>766</td><td>1</td><td>a</td><td>2</td><td>53</td><td>627</td></tr></tbody></table>"
      ],
      "text/plain": [
       "5×9 DataFrames.DataFrame\n",
       "│ Row │ beast                                         │ ivm     │ hp │ cp  │\n",
       "├─────┼───────────────────────────────────────────────┼─────────┼────┼─────┤\n",
       "│ 1   │ Eevee (133) l:30.0 iv:5,14,7; cp: 766, hp: 84 │ 14316.5 │ 84 │ 766 │\n",
       "│ 2   │ Eevee (133) l:30.0 iv:6,13,8; cp: 766, hp: 84 │ 14312.3 │ 84 │ 766 │\n",
       "│ 3   │ Eevee (133) l:30.0 iv:6,14,6; cp: 766, hp: 84 │ 14322.3 │ 84 │ 766 │\n",
       "│ 4   │ Eevee (133) l:30.5 iv:5,13,7; cp: 766, hp: 84 │ 14195.1 │ 84 │ 766 │\n",
       "│ 5   │ Eevee (133) l:30.5 iv:5,14,5; cp: 766, hp: 84 │ 14204.2 │ 84 │ 766 │\n",
       "\n",
       "│ Row │ overall │ best │ val │ iv │ ivp │\n",
       "├─────┼─────────┼──────┼─────┼────┼─────┤\n",
       "│ 1   │ 1       │ \"a\"  │ 2   │ 58 │ 659 │\n",
       "│ 2   │ 1       │ \"a\"  │ 2   │ 60 │ 658 │\n",
       "│ 3   │ 1       │ \"a\"  │ 2   │ 58 │ 661 │\n",
       "│ 4   │ 1       │ \"a\"  │ 2   │ 56 │ 625 │\n",
       "│ 5   │ 1       │ \"a\"  │ 2   │ 53 │ 627 │"
      ]
     },
     "execution_count": 9,
     "metadata": {},
     "output_type": "execute_result"
    }
   ],
   "source": [
    "search(\"Eevee\", 766, 84, 5000, 1, \"a\", 2)"
   ]
  },
  {
   "cell_type": "markdown",
   "metadata": {},
   "source": [
    "Evolving the result can lead to even more results. "
   ]
  },
  {
   "cell_type": "code",
   "execution_count": 10,
   "metadata": {},
   "outputs": [
    {
     "data": {
      "text/html": [
       "<table class=\"data-frame\"><thead><tr><th></th><th>beast</th><th>ivm</th><th>hp</th><th>cp</th><th>overall</th><th>best</th><th>val</th><th>iv</th><th>ivp</th></tr></thead><tbody><tr><th>1</th><td>Vaporeon (134) l:30.0 iv:5,14,7; cp: 2589, hp: 193</td><td>48358.84986225375</td><td>193</td><td>2589</td><td>1</td><td>a</td><td>2</td><td>58</td><td>666</td></tr><tr><th>2</th><td>Jolteon (135) l:30.0 iv:5,14,7; cp: 2206, hp: 98</td><td>41222.43660920591</td><td>98</td><td>2206</td><td>1</td><td>a</td><td>2</td><td>58</td><td>599</td></tr><tr><th>3</th><td>Flareon (136) l:30.0 iv:5,14,7; cp: 2349, hp: 98</td><td>43881.49951858984</td><td>98</td><td>2349</td><td>1</td><td>a</td><td>2</td><td>58</td><td>592</td></tr><tr><th>4</th><td>Espeon (196) l:30.0 iv:5,14,7; cp: 2425, hp: 98</td><td>45299.937913864735</td><td>98</td><td>2425</td><td>1</td><td>a</td><td>2</td><td>58</td><td>584</td></tr><tr><th>5</th><td>Umbreon (197) l:30.0 iv:5,14,7; cp: 1677, hp: 142</td><td>31340.931702806793</td><td>142</td><td>1677</td><td>1</td><td>a</td><td>2</td><td>58</td><td>718</td></tr><tr><th>6</th><td>Vaporeon (134) l:30.0 iv:6,13,8; cp: 2589, hp: 194</td><td>48359.65301777919</td><td>194</td><td>2589</td><td>1</td><td>a</td><td>2</td><td>60</td><td>667</td></tr><tr><th>7</th><td>Jolteon (135) l:30.0 iv:6,13,8; cp: 2211, hp: 99</td><td>41305.57589478689</td><td>99</td><td>2211</td><td>1</td><td>a</td><td>2</td><td>60</td><td>612</td></tr><tr><th>8</th><td>Flareon (136) l:30.0 iv:6,13,8; cp: 2354, hp: 99</td><td>43978.16949351121</td><td>99</td><td>2354</td><td>1</td><td>a</td><td>2</td><td>60</td><td>607</td></tr><tr><th>9</th><td>Espeon (196) l:30.0 iv:6,13,8; cp: 2431, hp: 99</td><td>45414.621786380645</td><td>99</td><td>2431</td><td>1</td><td>a</td><td>2</td><td>60</td><td>601</td></tr><tr><th>10</th><td>Umbreon (197) l:30.0 iv:6,13,8; cp: 1673, hp: 143</td><td>31257.388374590733</td><td>143</td><td>1673</td><td>1</td><td>a</td><td>2</td><td>60</td><td>703</td></tr><tr><th>11</th><td>Vaporeon (134) l:30.0 iv:6,14,6; cp: 2586, hp: 194</td><td>48318.170060547614</td><td>194</td><td>2586</td><td>1</td><td>a</td><td>2</td><td>58</td><td>660</td></tr><tr><th>12</th><td>Jolteon (135) l:30.0 iv:6,14,6; cp: 2209, hp: 99</td><td>41275.25205253143</td><td>99</td><td>2209</td><td>1</td><td>a</td><td>2</td><td>58</td><td>608</td></tr><tr><th>13</th><td>Flareon (136) l:30.0 iv:6,14,6; cp: 2352, hp: 99</td><td>43939.23076249743</td><td>99</td><td>2352</td><td>1</td><td>a</td><td>2</td><td>58</td><td>601</td></tr><tr><th>14</th><td>Espeon (196) l:30.0 iv:6,14,6; cp: 2428, hp: 99</td><td>45354.161881794265</td><td>99</td><td>2428</td><td>1</td><td>a</td><td>2</td><td>58</td><td>592</td></tr><tr><th>15</th><td>Umbreon (197) l:30.0 iv:6,14,6; cp: 1678, hp: 143</td><td>31360.0</td><td>143</td><td>1678</td><td>1</td><td>a</td><td>2</td><td>58</td><td>722</td></tr><tr><th>16</th><td>Vaporeon (134) l:30.5 iv:5,13,7; cp: 2598, hp: 194</td><td>48138.03319621606</td><td>194</td><td>2598</td><td>1</td><td>a</td><td>2</td><td>56</td><td>633</td></tr><tr><th>17</th><td>Jolteon (135) l:30.5 iv:5,13,7; cp: 2216, hp: 99</td><td>41054.865728680685</td><td>99</td><td>2216</td><td>1</td><td>a</td><td>2</td><td>56</td><td>572</td></tr><tr><th>18</th><td>Flareon (136) l:30.5 iv:5,13,7; cp: 2359, hp: 99</td><td>43712.724520441414</td><td>99</td><td>2359</td><td>1</td><td>a</td><td>2</td><td>56</td><td>566</td></tr><tr><th>19</th><td>Espeon (196) l:30.5 iv:5,13,7; cp: 2436, hp: 99</td><td>45135.210866905225</td><td>99</td><td>2436</td><td>1</td><td>a</td><td>2</td><td>56</td><td>559</td></tr><tr><th>20</th><td>Umbreon (197) l:30.5 iv:5,13,7; cp: 1679, hp: 143</td><td>31117.0679049296</td><td>143</td><td>1679</td><td>1</td><td>a</td><td>2</td><td>56</td><td>677</td></tr><tr><th>21</th><td>Vaporeon (134) l:30.5 iv:5,14,5; cp: 2596, hp: 194</td><td>48095.311933700985</td><td>194</td><td>2596</td><td>1</td><td>a</td><td>2</td><td>53</td><td>626</td></tr><tr><th>22</th><td>Jolteon (135) l:30.5 iv:5,14,5; cp: 2214, hp: 99</td><td>41023.7731077969</td><td>99</td><td>2214</td><td>1</td><td>a</td><td>2</td><td>53</td><td>567</td></tr><tr><th>23</th><td>Flareon (136) l:30.5 iv:5,14,5; cp: 2357, hp: 99</td><td>43673.035159008585</td><td>99</td><td>2357</td><td>1</td><td>a</td><td>2</td><td>53</td><td>560</td></tr><tr><th>24</th><td>Espeon (196) l:30.5 iv:5,14,5; cp: 2433, hp: 99</td><td>45074.00165283753</td><td>99</td><td>2433</td><td>1</td><td>a</td><td>2</td><td>53</td><td>549</td></tr><tr><th>25</th><td>Umbreon (197) l:30.5 iv:5,14,5; cp: 1685, hp: 143</td><td>31218.744369368862</td><td>143</td><td>1685</td><td>1</td><td>a</td><td>2</td><td>53</td><td>696</td></tr></tbody></table>"
      ],
      "text/plain": [
       "25×9 DataFrames.DataFrame\n",
       "│ Row │ beast                                              │ ivm     │ hp  │\n",
       "├─────┼────────────────────────────────────────────────────┼─────────┼─────┤\n",
       "│ 1   │ Vaporeon (134) l:30.0 iv:5,14,7; cp: 2589, hp: 193 │ 48358.8 │ 193 │\n",
       "│ 2   │ Jolteon (135) l:30.0 iv:5,14,7; cp: 2206, hp: 98   │ 41222.4 │ 98  │\n",
       "│ 3   │ Flareon (136) l:30.0 iv:5,14,7; cp: 2349, hp: 98   │ 43881.5 │ 98  │\n",
       "│ 4   │ Espeon (196) l:30.0 iv:5,14,7; cp: 2425, hp: 98    │ 45299.9 │ 98  │\n",
       "│ 5   │ Umbreon (197) l:30.0 iv:5,14,7; cp: 1677, hp: 142  │ 31340.9 │ 142 │\n",
       "│ 6   │ Vaporeon (134) l:30.0 iv:6,13,8; cp: 2589, hp: 194 │ 48359.7 │ 194 │\n",
       "│ 7   │ Jolteon (135) l:30.0 iv:6,13,8; cp: 2211, hp: 99   │ 41305.6 │ 99  │\n",
       "│ 8   │ Flareon (136) l:30.0 iv:6,13,8; cp: 2354, hp: 99   │ 43978.2 │ 99  │\n",
       "│ 9   │ Espeon (196) l:30.0 iv:6,13,8; cp: 2431, hp: 99    │ 45414.6 │ 99  │\n",
       "│ 10  │ Umbreon (197) l:30.0 iv:6,13,8; cp: 1673, hp: 143  │ 31257.4 │ 143 │\n",
       "│ 11  │ Vaporeon (134) l:30.0 iv:6,14,6; cp: 2586, hp: 194 │ 48318.2 │ 194 │\n",
       "│ 12  │ Jolteon (135) l:30.0 iv:6,14,6; cp: 2209, hp: 99   │ 41275.3 │ 99  │\n",
       "│ 13  │ Flareon (136) l:30.0 iv:6,14,6; cp: 2352, hp: 99   │ 43939.2 │ 99  │\n",
       "│ 14  │ Espeon (196) l:30.0 iv:6,14,6; cp: 2428, hp: 99    │ 45354.2 │ 99  │\n",
       "│ 15  │ Umbreon (197) l:30.0 iv:6,14,6; cp: 1678, hp: 143  │ 31360.0 │ 143 │\n",
       "│ 16  │ Vaporeon (134) l:30.5 iv:5,13,7; cp: 2598, hp: 194 │ 48138.0 │ 194 │\n",
       "│ 17  │ Jolteon (135) l:30.5 iv:5,13,7; cp: 2216, hp: 99   │ 41054.9 │ 99  │\n",
       "│ 18  │ Flareon (136) l:30.5 iv:5,13,7; cp: 2359, hp: 99   │ 43712.7 │ 99  │\n",
       "│ 19  │ Espeon (196) l:30.5 iv:5,13,7; cp: 2436, hp: 99    │ 45135.2 │ 99  │\n",
       "│ 20  │ Umbreon (197) l:30.5 iv:5,13,7; cp: 1679, hp: 143  │ 31117.1 │ 143 │\n",
       "│ 21  │ Vaporeon (134) l:30.5 iv:5,14,5; cp: 2596, hp: 194 │ 48095.3 │ 194 │\n",
       "│ 22  │ Jolteon (135) l:30.5 iv:5,14,5; cp: 2214, hp: 99   │ 41023.8 │ 99  │\n",
       "│ 23  │ Flareon (136) l:30.5 iv:5,14,5; cp: 2357, hp: 99   │ 43673.0 │ 99  │\n",
       "│ 24  │ Espeon (196) l:30.5 iv:5,14,5; cp: 2433, hp: 99    │ 45074.0 │ 99  │\n",
       "│ 25  │ Umbreon (197) l:30.5 iv:5,14,5; cp: 1685, hp: 143  │ 31218.7 │ 143 │\n",
       "\n",
       "│ Row │ cp   │ overall │ best │ val │ iv │ ivp │\n",
       "├─────┼──────┼─────────┼──────┼─────┼────┼─────┤\n",
       "│ 1   │ 2589 │ 1       │ \"a\"  │ 2   │ 58 │ 666 │\n",
       "│ 2   │ 2206 │ 1       │ \"a\"  │ 2   │ 58 │ 599 │\n",
       "│ 3   │ 2349 │ 1       │ \"a\"  │ 2   │ 58 │ 592 │\n",
       "│ 4   │ 2425 │ 1       │ \"a\"  │ 2   │ 58 │ 584 │\n",
       "│ 5   │ 1677 │ 1       │ \"a\"  │ 2   │ 58 │ 718 │\n",
       "│ 6   │ 2589 │ 1       │ \"a\"  │ 2   │ 60 │ 667 │\n",
       "│ 7   │ 2211 │ 1       │ \"a\"  │ 2   │ 60 │ 612 │\n",
       "│ 8   │ 2354 │ 1       │ \"a\"  │ 2   │ 60 │ 607 │\n",
       "│ 9   │ 2431 │ 1       │ \"a\"  │ 2   │ 60 │ 601 │\n",
       "│ 10  │ 1673 │ 1       │ \"a\"  │ 2   │ 60 │ 703 │\n",
       "│ 11  │ 2586 │ 1       │ \"a\"  │ 2   │ 58 │ 660 │\n",
       "│ 12  │ 2209 │ 1       │ \"a\"  │ 2   │ 58 │ 608 │\n",
       "│ 13  │ 2352 │ 1       │ \"a\"  │ 2   │ 58 │ 601 │\n",
       "│ 14  │ 2428 │ 1       │ \"a\"  │ 2   │ 58 │ 592 │\n",
       "│ 15  │ 1678 │ 1       │ \"a\"  │ 2   │ 58 │ 722 │\n",
       "│ 16  │ 2598 │ 1       │ \"a\"  │ 2   │ 56 │ 633 │\n",
       "│ 17  │ 2216 │ 1       │ \"a\"  │ 2   │ 56 │ 572 │\n",
       "│ 18  │ 2359 │ 1       │ \"a\"  │ 2   │ 56 │ 566 │\n",
       "│ 19  │ 2436 │ 1       │ \"a\"  │ 2   │ 56 │ 559 │\n",
       "│ 20  │ 1679 │ 1       │ \"a\"  │ 2   │ 56 │ 677 │\n",
       "│ 21  │ 2596 │ 1       │ \"a\"  │ 2   │ 53 │ 626 │\n",
       "│ 22  │ 2214 │ 1       │ \"a\"  │ 2   │ 53 │ 567 │\n",
       "│ 23  │ 2357 │ 1       │ \"a\"  │ 2   │ 53 │ 560 │\n",
       "│ 24  │ 2433 │ 1       │ \"a\"  │ 2   │ 53 │ 549 │\n",
       "│ 25  │ 1685 │ 1       │ \"a\"  │ 2   │ 53 │ 696 │"
      ]
     },
     "execution_count": 10,
     "metadata": {},
     "output_type": "execute_result"
    }
   ],
   "source": [
    "evolve(ans)"
   ]
  },
  {
   "cell_type": "markdown",
   "metadata": {},
   "source": [
    "Some more functions, which are not all exported."
   ]
  },
  {
   "cell_type": "code",
   "execution_count": 11,
   "metadata": {},
   "outputs": [
    {
     "data": {
      "text/plain": [
       "145"
      ]
     },
     "execution_count": 11,
     "metadata": {},
     "output_type": "execute_result"
    }
   ],
   "source": [
    "nr(\"Zapdos\")"
   ]
  },
  {
   "cell_type": "code",
   "execution_count": 12,
   "metadata": {},
   "outputs": [
    {
     "data": {
      "text/html": [
       "<table class=\"data-frame\"><thead><tr><th></th><th>nr</th><th>name</th><th>maxcp</th><th>capture</th><th>flee</th><th>stamina</th><th>attack</th><th>defense</th><th>evolve</th></tr></thead><tbody><tr><th>1</th><td>63</td><td>Abra</td><td>1140</td><td>0.5</td><td>0.99</td><td>50</td><td>195</td><td>103</td><td>[64]</td></tr></tbody></table>"
      ],
      "text/plain": [
       "1×9 DataFrames.DataFrame\n",
       "│ Row │ nr │ name   │ maxcp │ capture │ flee │ stamina │ attack │ defense │\n",
       "├─────┼────┼────────┼───────┼─────────┼──────┼─────────┼────────┼─────────┤\n",
       "│ 1   │ 63 │ \"Abra\" │ 1140  │ 0.5     │ 0.99 │ 50      │ 195    │ 103     │\n",
       "\n",
       "│ Row │ evolve │\n",
       "├─────┼────────┤\n",
       "│ 1   │ [64]   │"
      ]
     },
     "execution_count": 12,
     "metadata": {},
     "output_type": "execute_result"
    }
   ],
   "source": [
    "Pkm.stats[Pkm.nr(\"Abra\"), :]"
   ]
  },
  {
   "cell_type": "markdown",
   "metadata": {},
   "source": [
    "`capture` and `flee` are base probability of catching (with is further modified) and probability that the beast flees when not caught. \n",
    "\n",
    "If you don't like my terminology, you are free to change it.\n",
    "\n",
    "You can also create a beast by number directly.  This is more basic to the structure, and therefore the level is specified as a `twicelevel`, and integer number that counts half-levels, since this is the minimum relolution of beast levels.  Twicelevels 1, 2, 3, ..., 79 correspond to levels 1, 1.5, 2, ..., 40. "
   ]
  },
  {
   "cell_type": "code",
   "execution_count": 13,
   "metadata": {},
   "outputs": [
    {
     "data": {
      "text/plain": [
       "Bulbasaur (1) l:20.0 iv:15,15,15; cp: 560, hp: 62"
      ]
     },
     "execution_count": 13,
     "metadata": {},
     "output_type": "execute_result"
    }
   ],
   "source": [
    "const Pokémon = Pokebeast\n",
    "b = Pokémon(1, 39, Pkm.maxIV)"
   ]
  },
  {
   "cell_type": "code",
   "execution_count": 14,
   "metadata": {},
   "outputs": [
    {
     "data": {
      "text/plain": [
       "1-element Array{Pkm.Pokebeast,1}:\n",
       " Ivysaur (2) l:20.0 iv:15,15,15; cp: 886, hp: 80"
      ]
     },
     "execution_count": 14,
     "metadata": {},
     "output_type": "execute_result"
    }
   ],
   "source": [
    "iv = evolve(b)"
   ]
  },
  {
   "cell_type": "markdown",
   "metadata": {},
   "source": [
    "The basic `evolve` results in an array, because, well, some beast have multiple targets. "
   ]
  },
  {
   "cell_type": "code",
   "execution_count": 15,
   "metadata": {
    "scrolled": true
   },
   "outputs": [
    {
     "data": {
      "text/plain": [
       "1-element Array{Pkm.Pokebeast,1}:\n",
       " Venusaur (3) l:20.0 iv:15,15,15; cp: 1467, hp: 104"
      ]
     },
     "execution_count": 15,
     "metadata": {},
     "output_type": "execute_result"
    }
   ],
   "source": [
    "evolve(iv[1])"
   ]
  },
  {
   "cell_type": "markdown",
   "metadata": {},
   "source": [
    "You can just also evolve twice directly."
   ]
  },
  {
   "cell_type": "code",
   "execution_count": 16,
   "metadata": {},
   "outputs": [
    {
     "data": {
      "text/plain": [
       "1-element Array{Pkm.Pokebeast,1}:\n",
       " Venusaur (3) l:20.0 iv:15,15,15; cp: 1467, hp: 104"
      ]
     },
     "execution_count": 16,
     "metadata": {},
     "output_type": "execute_result"
    }
   ],
   "source": [
    "evolve(b, 2)"
   ]
  },
  {
   "cell_type": "code",
   "execution_count": 17,
   "metadata": {
    "scrolled": true
   },
   "outputs": [
    {
     "data": {
      "text/html": [
       "<table class=\"data-frame\"><thead><tr><th></th><th>beast</th><th>ivm</th><th>hp</th><th>cp</th><th>overall</th><th>best</th><th>val</th><th>iv</th><th>ivp</th></tr></thead><tbody><tr><th>1</th><td>Magikarp (129) l:3.0 iv:15,14,15; cp: 16, hp: 11</td><td>3449.3934249372014</td><td>11</td><td>16</td><td>3</td><td>sd</td><td>3</td><td>98</td><td>952</td></tr></tbody></table>"
      ],
      "text/plain": [
       "1×9 DataFrames.DataFrame\n",
       "│ Row │ beast                                            │ ivm     │ hp │ cp │\n",
       "├─────┼──────────────────────────────────────────────────┼─────────┼────┼────┤\n",
       "│ 1   │ Magikarp (129) l:3.0 iv:15,14,15; cp: 16, hp: 11 │ 3449.39 │ 11 │ 16 │\n",
       "\n",
       "│ Row │ overall │ best │ val │ iv │ ivp │\n",
       "├─────┼─────────┼──────┼─────┼────┼─────┤\n",
       "│ 1   │ 3       │ \"sd\" │ 3   │ 98 │ 952 │"
      ]
     },
     "execution_count": 17,
     "metadata": {},
     "output_type": "execute_result"
    }
   ],
   "source": [
    "p"
   ]
  },
  {
   "cell_type": "markdown",
   "metadata": {},
   "source": [
    "You can directly modify the level of a beast:"
   ]
  },
  {
   "cell_type": "code",
   "execution_count": 18,
   "metadata": {},
   "outputs": [
    {
     "data": {
      "text/html": [
       "<table class=\"data-frame\"><thead><tr><th></th><th>beast</th><th>ivm</th><th>hp</th><th>cp</th><th>overall</th><th>best</th><th>val</th><th>iv</th><th>ivp</th><th>candy</th><th>stardust</th></tr></thead><tbody><tr><th>1</th><td>Magikarp (129) l:30.0 iv:15,14,15; cp: 184, hp: 40</td><td>3449.3934249372014</td><td>40</td><td>184</td><td>3</td><td>sd</td><td>3</td><td>98</td><td>952</td><td>121</td><td>123800</td></tr></tbody></table>"
      ],
      "text/plain": [
       "1×11 DataFrames.DataFrame\n",
       "│ Row │ beast                                              │ ivm     │ hp │\n",
       "├─────┼────────────────────────────────────────────────────┼─────────┼────┤\n",
       "│ 1   │ Magikarp (129) l:30.0 iv:15,14,15; cp: 184, hp: 40 │ 3449.39 │ 40 │\n",
       "\n",
       "│ Row │ cp  │ overall │ best │ val │ iv │ ivp │ candy │ stardust │\n",
       "├─────┼─────┼─────────┼──────┼─────┼────┼─────┼───────┼──────────┤\n",
       "│ 1   │ 184 │ 3       │ \"sd\" │ 3   │ 98 │ 952 │ 121   │ 123800   │"
      ]
     },
     "execution_count": 18,
     "metadata": {},
     "output_type": "execute_result"
    }
   ],
   "source": [
    "setlevel(p, 30)"
   ]
  },
  {
   "cell_type": "markdown",
   "metadata": {},
   "source": [
    "You can quickly lookup how much candy / stardust it costs to up a beast from one to another level:"
   ]
  },
  {
   "cell_type": "code",
   "execution_count": 19,
   "metadata": {},
   "outputs": [
    {
     "data": {
      "text/plain": [
       "121"
      ]
     },
     "execution_count": 19,
     "metadata": {},
     "output_type": "execute_result"
    }
   ],
   "source": [
    "candycost(3, 30)"
   ]
  },
  {
   "cell_type": "code",
   "execution_count": 20,
   "metadata": {},
   "outputs": [
    {
     "data": {
      "text/plain": [
       "123800"
      ]
     },
     "execution_count": 20,
     "metadata": {},
     "output_type": "execute_result"
    }
   ],
   "source": [
    "stardustcost(3, 30)"
   ]
  },
  {
   "cell_type": "code",
   "execution_count": null,
   "metadata": {
    "collapsed": true
   },
   "outputs": [],
   "source": []
  }
 ],
 "metadata": {
  "kernelspec": {
   "display_name": "Julia 0.6.0-pre.beta",
   "language": "julia",
   "name": "julia-0.6"
  },
  "language_info": {
   "file_extension": ".jl",
   "mimetype": "application/julia",
   "name": "julia",
   "version": "0.6.2"
  }
 },
 "nbformat": 4,
 "nbformat_minor": 2
}
